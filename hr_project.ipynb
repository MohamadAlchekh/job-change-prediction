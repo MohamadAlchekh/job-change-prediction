{
 "cells": [
  {
   "cell_type": "markdown",
   "id": "e54bdeb5",
   "metadata": {},
   "source": [
    "## Let's load data set and view it"
   ]
  },
  {
   "cell_type": "code",
   "execution_count": null,
   "id": "cf79bbaa",
   "metadata": {},
   "outputs": [],
   "source": [
    "import pandas as pd\n",
    "\n",
    "df = pd.read_csv(\"aug_train.csv\")\n",
    "\n",
    "\n",
    "df.head()"
   ]
  },
  {
   "cell_type": "markdown",
   "id": "235add42",
   "metadata": {},
   "source": [
    "## Let's check the nulls and info"
   ]
  },
  {
   "cell_type": "code",
   "execution_count": null,
   "id": "6a1b1618",
   "metadata": {},
   "outputs": [],
   "source": [
    "df.info()\n",
    "\n",
    "# Missing values\n",
    "df.isnull().sum()\n"
   ]
  },
  {
   "cell_type": "code",
   "execution_count": null,
   "id": "5b0fabdd",
   "metadata": {},
   "outputs": [],
   "source": [
    "# Clean and Fill Missing Data\n",
    "# Replace experience values\n",
    "df['experience'] = df['experience'].replace('>20', '21').replace('<1', '0.5')\n",
    "df['experience'] = df['experience'].astype(float)\n",
    "df['experience'].fillna(df['experience'].median(), inplace=True)\n",
    "\n",
    "# Fill categorical nulls with 'Unknown'\n",
    "cat_cols = ['education_level', 'major_discipline', 'company_type', 'last_new_job', 'company_size']\n",
    "for col in cat_cols:\n",
    "    df[col].fillna('Unknown', inplace=True)\n"
   ]
  },
  {
   "cell_type": "code",
   "execution_count": null,
   "id": "36ef84bf",
   "metadata": {},
   "outputs": [],
   "source": [
    "# visualize missing data\n",
    "import seaborn as sns\n",
    "import matplotlib.pyplot as plt\n",
    "\n",
    "\n",
    "plt.figure(figsize=(10,6))\n",
    "sns.heatmap(df.T.isnull(), cbar=False, cmap=\"Reds\")\n",
    "plt.title(\"Missing Values\")\n",
    "plt.show()\n"
   ]
  },
  {
   "cell_type": "code",
   "execution_count": null,
   "id": "57c7e28d",
   "metadata": {},
   "outputs": [],
   "source": [
    "from sklearn.preprocessing import LabelEncoder\n",
    "\n",
    "label_cols = ['gender', 'relevent_experience', 'enrolled_university',\n",
    "              'education_level', 'major_discipline', 'company_type',\n",
    "              'last_new_job', 'company_size', 'city']\n",
    "\n",
    "le = LabelEncoder()\n",
    "for col in label_cols:\n",
    "    df[col] = le.fit_transform(df[col])\n"
   ]
  },
  {
   "cell_type": "code",
   "execution_count": null,
   "id": "edd4fda7",
   "metadata": {},
   "outputs": [],
   "source": [
    "from sklearn.preprocessing import MinMaxScaler\n",
    "\n",
    "scaler = MinMaxScaler()\n",
    "df[['training_hours', 'experience']] = scaler.fit_transform(df[['training_hours', 'experience']])\n"
   ]
  },
  {
   "cell_type": "code",
   "execution_count": null,
   "id": "5cd85f59",
   "metadata": {},
   "outputs": [],
   "source": [
    "from sklearn.model_selection import train_test_split\n",
    "\n",
    "# Separate features and target\n",
    "X = df.drop(columns=['target'])\n",
    "y = df['target']\n",
    "\n",
    "# Train/Test Split\n",
    "X_train, X_test, y_train, y_test = train_test_split(X, y, test_size=0.2, random_state=42)\n"
   ]
  },
  {
   "cell_type": "code",
   "execution_count": null,
   "id": "ad3ad2a1",
   "metadata": {},
   "outputs": [],
   "source": [
    "from sklearn.tree import DecisionTreeClassifier\n",
    "from sklearn.metrics import classification_report, confusion_matrix\n",
    "\n",
    "# Train\n",
    "dt_model = DecisionTreeClassifier()\n",
    "dt_model.fit(X_train, y_train)\n",
    "\n",
    "# Predict\n",
    "y_pred_dt = dt_model.predict(X_test)\n",
    "\n",
    "# Evaluate\n",
    "print(\"Decision Tree Results:\\n\")\n",
    "print(classification_report(y_test, y_pred_dt))\n",
    "print(confusion_matrix(y_test, y_pred_dt))\n"
   ]
  },
  {
   "cell_type": "code",
   "execution_count": null,
   "id": "5a958433",
   "metadata": {},
   "outputs": [],
   "source": [
    "from sklearn.neighbors import KNeighborsClassifier\n",
    "\n",
    "knn = KNeighborsClassifier(n_neighbors=5)\n",
    "knn.fit(X_train, y_train)\n",
    "\n",
    "y_pred_knn = knn.predict(X_test)\n",
    "\n",
    "print(\"KNN Results:\\n\")\n",
    "print(classification_report(y_test, y_pred_knn))\n",
    "print(confusion_matrix(y_test, y_pred_knn))\n"
   ]
  },
  {
   "cell_type": "code",
   "execution_count": null,
   "id": "5c7423ad",
   "metadata": {},
   "outputs": [],
   "source": [
    "from sklearn.linear_model import LogisticRegression\n",
    "\n",
    "lr = LogisticRegression(max_iter=1000)\n",
    "lr.fit(X_train, y_train)\n",
    "\n",
    "y_pred_lr = lr.predict(X_test)\n",
    "\n",
    "print(\"Logistic Regression Results:\\n\")\n",
    "print(classification_report(y_test, y_pred_lr))\n",
    "print(confusion_matrix(y_test, y_pred_lr))\n"
   ]
  },
  {
   "cell_type": "code",
   "execution_count": null,
   "id": "2eba3943",
   "metadata": {},
   "outputs": [],
   "source": [
    "from sklearn.metrics import accuracy_score, precision_score, recall_score, f1_score\n",
    "\n",
    "# Store metrics for each model\n",
    "results = {\n",
    "    \"Model\": [],\n",
    "    \"Accuracy\": [],\n",
    "    \"Precision\": [],\n",
    "    \"Recall\": [],\n",
    "    \"F1-Score\": []\n",
    "}\n",
    "\n",
    "def evaluate_model(name, y_true, y_pred):\n",
    "    results[\"Model\"].append(name)\n",
    "    results[\"Accuracy\"].append(accuracy_score(y_true, y_pred))\n",
    "    results[\"Precision\"].append(precision_score(y_true, y_pred))\n",
    "    results[\"Recall\"].append(recall_score(y_true, y_pred))\n",
    "    results[\"F1-Score\"].append(f1_score(y_true, y_pred))\n",
    "\n",
    "# Evaluate each model\n",
    "evaluate_model(\"Decision Tree\", y_test, y_pred_dt)\n",
    "evaluate_model(\"KNN\", y_test, y_pred_knn)\n",
    "evaluate_model(\"Logistic Regression\", y_test, y_pred_lr)\n",
    "\n",
    "results_df = pd.DataFrame(results)\n",
    "results_df\n",
    "# Plot comparison visualized\n",
    "# results_df.set_index(\"Model\").plot(kind=\"bar\", figsize=(10, 6), ylim=(0, 1), title=\"Model Comparison\")\n",
    "# plt.ylabel(\"Score\")\n",
    "# plt.xticks(rotation=0)\n",
    "# plt.show()\n",
    "\n"
   ]
  },
  {
   "cell_type": "code",
   "execution_count": null,
   "id": "ba30cc72",
   "metadata": {},
   "outputs": [],
   "source": [
    "plt.figure(figsize=(6, 4))\n",
    "sns.boxplot(x=df['training_hours'])\n",
    "plt.title(\"Training Hours - Aykırı Değer Kontrolü\")\n",
    "plt.show()"
   ]
  },
  {
   "cell_type": "code",
   "execution_count": null,
   "id": "a056c57d",
   "metadata": {},
   "outputs": [],
   "source": [
    "import seaborn as sns\n",
    "import matplotlib.pyplot as plt\n",
    "from sklearn.metrics import ConfusionMatrixDisplay\n",
    "\n",
    "# Confusion Matrix for best model\n",
    "ConfusionMatrixDisplay.from_estimator(dt_model, X_test, y_test)\n",
    "plt.title(\"Confusion Matrix - Decision Tree\")\n",
    "plt.show()\n"
   ]
  }
 ],
 "metadata": {
  "kernelspec": {
   "display_name": "base",
   "language": "python",
   "name": "python3"
  },
  "language_info": {
   "codemirror_mode": {
    "name": "ipython",
    "version": 3
   },
   "file_extension": ".py",
   "mimetype": "text/x-python",
   "name": "python",
   "nbconvert_exporter": "python",
   "pygments_lexer": "ipython3",
   "version": "3.12.7"
  }
 },
 "nbformat": 4,
 "nbformat_minor": 5
}
